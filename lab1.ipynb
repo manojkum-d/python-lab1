{
 "cells": [
  {
   "cell_type": "markdown",
   "metadata": {},
   "source": [
    "Paragraph:   Hello, my name is MANOJ KUMAR D, and my selected domain is the “School Management System”.  The School Management System is a basic Python application designed to facilitate essential tasks within a school. It provides functionalities such as student registration, attendance recording, and grade management. "
   ]
  },
  {
   "cell_type": "code",
   "execution_count": 4,
   "metadata": {},
   "outputs": [
    {
     "name": "stdout",
     "output_type": "stream",
     "text": [
      "The word 'school' appears 2 times in the para.\n"
     ]
    }
   ],
   "source": [
    "para = \"Hello, my name is MANOJ KUMAR D, and my selected domain is the School Management System.  The School Management System is a basic Python application designed to facilitate essential tasks within a school. It provides functionalities such as student registration, attendance recording, and grade management. \"\n",
    "search_word = \"school\"\n",
    "para_lower = para.lower()  # Convert both to lower\n",
    "search_word_lower = search_word.lower()\n",
    "words = para_lower.split() #split divides the para to words\n",
    "frequency = words.count(search_word_lower)\n",
    "print(f\"The word '{search_word}' appears {frequency} times in the para.\")\n"
   ]
  },
  {
   "cell_type": "markdown",
   "metadata": {},
   "source": [
    "Write a python program to display all the datatypes of selected specific elements in the paragraph. (For example:– name - string, reg.no - int, marks - float, etc.)\n"
   ]
  },
  {
   "cell_type": "markdown",
   "metadata": {},
   "source": [
    "Write a python program to count the number of alphabets, numeric and other special symbols in the paragraph.\n"
   ]
  },
  {
   "cell_type": "code",
   "execution_count": 9,
   "metadata": {},
   "outputs": [
    {
     "name": "stdout",
     "output_type": "stream",
     "text": [
      "the - str\n",
      "School - str\n",
      "Management - str\n",
      "505 - int\n",
      "System, - str\n",
      "each - str\n",
      "student - str\n",
      "has - str\n",
      "a - str\n",
      "name, - str\n",
      "reg.no, - str\n",
      "and - str\n",
      "marks. - str\n",
      "The - str\n",
      "reg.no - str\n",
      "0.5 - float\n",
      "is - str\n",
      "an - str\n",
      "integer, - str\n",
      "and - str\n",
      "marks - str\n",
      "are - str\n",
      "in - str\n",
      "floating-point - str\n",
      "format. - str\n",
      "The - str\n",
      "system - str\n",
      "also - str\n",
      "stores - str\n",
      "the - str\n",
      "student's - str\n",
      "age - str\n",
      "as - str\n",
      "an - str\n",
      "integer. - str\n"
     ]
    }
   ],
   "source": [
    "# Sample paragraph\n",
    "paragraph = \" the School Management 505 System, each student has a name, reg.no, and marks. The reg.no 0.5 is an integer, and marks are in floating-point format. The system also stores the student's age as an integer.\"\n",
    "\n",
    "# Function to display the data type of each word in the paragraph\n",
    "def display_data_types(paragraph):\n",
    "    words = paragraph.split()\n",
    "    for word in words:\n",
    "        try:\n",
    "            value = eval(word)  # Try evaluating the word as an expression\n",
    "            data_type = type(value).__name__\n",
    "            print(f\"{word} - {data_type}\")\n",
    "        except:\n",
    "            print(f\"{word} - str\")  # If evaluation fails, consider it as a string\n",
    "\n",
    "\n",
    "display_data_types(paragraph)"
   ]
  },
  {
   "cell_type": "code",
   "execution_count": 1,
   "metadata": {},
   "outputs": [
    {
     "name": "stdout",
     "output_type": "stream",
     "text": [
      "Number of alphabets: 294\n",
      "Number of numeric characters: 1\n",
      "Number of special symbols: 56\n"
     ]
    }
   ],
   "source": [
    "# Sample paragraph in the school management domain\n",
    "paragraph = \"The School Management System is an innovative and user-friendly  5 application developed in Python. It serves as a centralized platform where administrators, teachers, and parents can collaborate seamlessly. The system offers features such as student enrollment, attendance tracking, grade management, and communication tools for parents and teachers.\"\n",
    "\n",
    "# Initialize counters\n",
    "alphabets_count = 0\n",
    "numeric_count = 0\n",
    "special_symbols_count = 0\n",
    "\n",
    "# Iterate through each character in the paragraph\n",
    "for char in paragraph:\n",
    "    # Check if the character is an alphabet\n",
    "    if char.isalpha():\n",
    "        alphabets_count += 1\n",
    "    # Check if the character is numeric\n",
    "    elif char.isdigit():\n",
    "        numeric_count += 1\n",
    "    # If it's neither alphabet nor numeric, it's considered a special symbol\n",
    "    else:\n",
    "        special_symbols_count += 1\n",
    "\n",
    "print(\"Number of alphabets:\", alphabets_count)\n",
    "print(\"Number of numeric characters:\", numeric_count)\n",
    "print(\"Number of special symbols:\", special_symbols_count)\n"
   ]
  },
  {
   "cell_type": "markdown",
   "metadata": {},
   "source": [
    "  Sets and Tuples\n",
    "·   \tCreate a Set with elements that consists of various data types (int, float, string, Boolean, etc. from your domain) and perform the functions pop(), clear(), discard() and del. Write the insights as docstring.\n",
    "\n"
   ]
  },
  {
   "cell_type": "markdown",
   "metadata": {},
   "source": [
    "Update the Set with minimum 5 string attributes of your domain and arrange the Set in descending order."
   ]
  },
  {
   "cell_type": "code",
   "execution_count": 7,
   "metadata": {},
   "outputs": [
    {
     "name": "stdout",
     "output_type": "stream",
     "text": [
      "Popped element: True\n",
      "Set after clearing: The set no longer exists.\n",
      "Element 'Math' discarded from the set (if present).\n",
      "Set deleted and no longer accessible.\n",
      "Set arranged in descending order: ['teacher', 'subject', 'student', 'classroom', 'attendance']\n"
     ]
    }
   ],
   "source": [
    "def set_operations():\n",
    "    \"\"\"\n",
    "    Demonstrates the usage of various set operations:\n",
    "    - pop(): Removes and returns an arbitrary element from the set.\n",
    "    - clear(): Removes all elements from the set, making it an empty set.\n",
    "    - discard(): Removes a specific element from the set if it exists, otherwise does nothing.\n",
    "    - del: Deletes the entire set, making it no longer accessible.\n",
    "    \"\"\"\n",
    "    # Create a set with elements of various data types\n",
    "    student_data = {101, 85.5, \"Alice\", True, (5, 10), \"Science\"}\n",
    "\n",
    "    # Pop an arbitrary element from the set\n",
    "    popped_element = student_data.pop()\n",
    "\n",
    "    # Clear the set, making it empty\n",
    "    student_data.clear()\n",
    "\n",
    "    # Try to discard a specific element that may or may not be in the set\n",
    "    student_data.discard(\"Math\")\n",
    "\n",
    "    # Delete the entire set using 'del'\n",
    "    del student_data\n",
    "\n",
    "    # Printing insights about each operation\n",
    "    print(\"Popped element:\", popped_element)\n",
    "    print(\"Set after clearing:\", student_data if 'student_data' in locals() else \"The set no longer exists.\")\n",
    "    print(\"Element 'Math' discarded from the set (if present).\")\n",
    "    print(\"Set deleted and no longer accessible.\")\n",
    "\n",
    "# Call the function to perform set operations\n",
    "set_operations()\n",
    "\n",
    "# Update the set with string attributes of the School Management System domain\n",
    "school_attributes = {\"student\", \"teacher\", \"classroom\", \"attendance\", \"subject\"}\n",
    "\n",
    "# Arrange the set in descending order\n",
    "sorted_school_attributes = sorted(school_attributes, reverse=True)\n",
    "\n",
    "print(\"Set arranged in descending order:\", sorted_school_attributes)\n"
   ]
  },
  {
   "cell_type": "markdown",
   "metadata": {},
   "source": [
    "Create a Tuple and Execute the packing and unpacking operations of tuples using the attributes of your domain.\n",
    "·   \tEnter your domain name as characters and count any number of characters and print the count (for example – (‘p’,’r’,’o’,’g’,’r’,’a’,’m’) count of ‘r’ = 2)\n",
    "·   \tEnter your domain name, execute all the slicing possibilities and also negative indexing.\n"
   ]
  },
  {
   "cell_type": "code",
   "execution_count": 8,
   "metadata": {},
   "outputs": [
    {
     "name": "stdout",
     "output_type": "stream",
     "text": [
      "Packed tuple: ('s', ['c', 'h', 'o', 'o', 'l', ' ', 'm', 'a', 'n', 'a', 'g', 'e', 'm', 'e', 'n', 't', ' ', 's', 'y', 's', 't', 'e'], 'm')\n",
      "Count of 'o': 2\n",
      "Slicing - First five characters: ('s', 'c', 'h', 'o', 'o')\n",
      "Slicing - Last five characters: ('y', 's', 't', 'e', 'm')\n"
     ]
    }
   ],
   "source": [
    "# Create a tuple with characters from the domain \"school management system\"\n",
    "domain_tuple = ('s', 'c', 'h', 'o', 'o', 'l', ' ', 'm', 'a', 'n', 'a', 'g', 'e', 'm', 'e', 'n', 't', ' ', 's', 'y', 's', 't', 'e', 'm')\n",
    "\n",
    "# Packing and Unpacking operations\n",
    "first_char, *middle_chars, last_char = domain_tuple\n",
    "\n",
    "# Counting occurrences of a character\n",
    "count_of_o = domain_tuple.count('o')\n",
    "\n",
    "# Slicing and negative indexing\n",
    "first_five_chars = domain_tuple[:5]\n",
    "last_five_chars = domain_tuple[-5:]\n",
    "\n",
    "print(\"Packed tuple:\", (first_char, middle_chars, last_char))\n",
    "print(\"Count of 'o':\", count_of_o)\n",
    "print(\"Slicing - First five characters:\", first_five_chars)\n",
    "print(\"Slicing - Last five characters:\", last_five_chars)\n"
   ]
  }
 ],
 "metadata": {
  "kernelspec": {
   "display_name": "Python 3",
   "language": "python",
   "name": "python3"
  },
  "language_info": {
   "codemirror_mode": {
    "name": "ipython",
    "version": 3
   },
   "file_extension": ".py",
   "mimetype": "text/x-python",
   "name": "python",
   "nbconvert_exporter": "python",
   "pygments_lexer": "ipython3",
   "version": "3.10.11"
  },
  "orig_nbformat": 4
 },
 "nbformat": 4,
 "nbformat_minor": 2
}
